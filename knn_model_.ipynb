{
 "cells": [
  {
   "cell_type": "code",
   "execution_count": 1,
   "id": "0fc0341c-c011-43d8-a0af-ae4280198487",
   "metadata": {},
   "outputs": [],
   "source": [
    "import pandas as pd\n",
    "import numpy as np\n",
    "import pickle\n",
    "from sklearn.metrics.pairwise import cosine_similarity\n",
    "from sklearn.preprocessing import OneHotEncoder\n",
    "from haversine import haversine, Unit\n",
    "from sklearn.neighbors import NearestNeighbors"
   ]
  },
  {
   "cell_type": "code",
   "execution_count": 3,
   "id": "d0ebb513-da3a-45c0-b885-24773ccae64e",
   "metadata": {},
   "outputs": [
    {
     "data": {
      "text/html": [
       "<div>\n",
       "<style scoped>\n",
       "    .dataframe tbody tr th:only-of-type {\n",
       "        vertical-align: middle;\n",
       "    }\n",
       "\n",
       "    .dataframe tbody tr th {\n",
       "        vertical-align: top;\n",
       "    }\n",
       "\n",
       "    .dataframe thead th {\n",
       "        text-align: right;\n",
       "    }\n",
       "</style>\n",
       "<table border=\"1\" class=\"dataframe\">\n",
       "  <thead>\n",
       "    <tr style=\"text-align: right;\">\n",
       "      <th></th>\n",
       "      <th>Destination</th>\n",
       "      <th>Location</th>\n",
       "      <th>latitude</th>\n",
       "      <th>longitude</th>\n",
       "      <th>tag</th>\n",
       "      <th>Unnamed: 5</th>\n",
       "    </tr>\n",
       "  </thead>\n",
       "  <tbody>\n",
       "    <tr>\n",
       "      <th>42</th>\n",
       "      <td>Harati Devi Temple (Swayambhu area)</td>\n",
       "      <td>Swayambhu, Kathmandu</td>\n",
       "      <td>27.715671</td>\n",
       "      <td>85.291538</td>\n",
       "      <td>Temple</td>\n",
       "      <td>NaN</td>\n",
       "    </tr>\n",
       "    <tr>\n",
       "      <th>35</th>\n",
       "      <td>Taleju Bhawani Temple (Bhaktapur)</td>\n",
       "      <td>Bhaktapur Durbar Square</td>\n",
       "      <td>27.672689</td>\n",
       "      <td>85.428944</td>\n",
       "      <td>Temple</td>\n",
       "      <td>NaN</td>\n",
       "    </tr>\n",
       "    <tr>\n",
       "      <th>26</th>\n",
       "      <td>Guhyeshwari Temple</td>\n",
       "      <td>Gaushala, Kathmandu</td>\n",
       "      <td>27.711275</td>\n",
       "      <td>85.353448</td>\n",
       "      <td>Temple</td>\n",
       "      <td>NaN</td>\n",
       "    </tr>\n",
       "    <tr>\n",
       "      <th>8</th>\n",
       "      <td>Boudhanath Stupa</td>\n",
       "      <td>Boudha, Kathmandu</td>\n",
       "      <td>27.721493</td>\n",
       "      <td>85.359441</td>\n",
       "      <td>stupa</td>\n",
       "      <td>NaN</td>\n",
       "    </tr>\n",
       "    <tr>\n",
       "      <th>4</th>\n",
       "      <td>The Taragoan Museum</td>\n",
       "      <td>Boudha, Kathmandu</td>\n",
       "      <td>27.720193</td>\n",
       "      <td>85.353614</td>\n",
       "      <td>Museum</td>\n",
       "      <td>NaN</td>\n",
       "    </tr>\n",
       "  </tbody>\n",
       "</table>\n",
       "</div>"
      ],
      "text/plain": [
       "                            Destination                Location    latitude  \\\n",
       "42  Harati Devi Temple (Swayambhu area)     Swayambhu, Kathmandu  27.715671   \n",
       "35    Taleju Bhawani Temple (Bhaktapur)  Bhaktapur Durbar Square  27.672689   \n",
       "26                   Guhyeshwari Temple      Gaushala, Kathmandu  27.711275   \n",
       "8                      Boudhanath Stupa        Boudha, Kathmandu  27.721493   \n",
       "4                   The Taragoan Museum        Boudha, Kathmandu  27.720193   \n",
       "\n",
       "    longitude     tag  Unnamed: 5  \n",
       "42  85.291538  Temple         NaN  \n",
       "35  85.428944  Temple         NaN  \n",
       "26  85.353448  Temple         NaN  \n",
       "8   85.359441   stupa         NaN  \n",
       "4   85.353614  Museum         NaN  "
      ]
     },
     "execution_count": 3,
     "metadata": {},
     "output_type": "execute_result"
    }
   ],
   "source": [
    "# Load dataset\n",
    "data = pd.read_csv(\"Attraction.csv\")\n",
    "data.sample(5)"
   ]
  },
  {
   "cell_type": "code",
   "execution_count": 5,
   "id": "0b69c942-729e-4c82-8601-8635015a8cee",
   "metadata": {},
   "outputs": [
    {
     "data": {
      "text/html": [
       "<div>\n",
       "<style scoped>\n",
       "    .dataframe tbody tr th:only-of-type {\n",
       "        vertical-align: middle;\n",
       "    }\n",
       "\n",
       "    .dataframe tbody tr th {\n",
       "        vertical-align: top;\n",
       "    }\n",
       "\n",
       "    .dataframe thead th {\n",
       "        text-align: right;\n",
       "    }\n",
       "</style>\n",
       "<table border=\"1\" class=\"dataframe\">\n",
       "  <thead>\n",
       "    <tr style=\"text-align: right;\">\n",
       "      <th></th>\n",
       "      <th>Destination</th>\n",
       "      <th>Location</th>\n",
       "      <th>latitude</th>\n",
       "      <th>longitude</th>\n",
       "      <th>tag</th>\n",
       "    </tr>\n",
       "  </thead>\n",
       "  <tbody>\n",
       "    <tr>\n",
       "      <th>56</th>\n",
       "      <td>Gahana Pokhari</td>\n",
       "      <td>Handigaun, Kathmandu</td>\n",
       "      <td>27.716819</td>\n",
       "      <td>85.332979</td>\n",
       "      <td>Pond</td>\n",
       "    </tr>\n",
       "    <tr>\n",
       "      <th>82</th>\n",
       "      <td>Sundarijal to Chisapani Hike</td>\n",
       "      <td>Sundarijal, Kathmandu</td>\n",
       "      <td>27.789705</td>\n",
       "      <td>85.426028</td>\n",
       "      <td>Hiking route</td>\n",
       "    </tr>\n",
       "    <tr>\n",
       "      <th>57</th>\n",
       "      <td>Ikha Pokhari</td>\n",
       "      <td>Wotu Tole, Patan</td>\n",
       "      <td>27.710243</td>\n",
       "      <td>85.308770</td>\n",
       "      <td>Pond</td>\n",
       "    </tr>\n",
       "    <tr>\n",
       "      <th>42</th>\n",
       "      <td>Harati Devi Temple (Swayambhu area)</td>\n",
       "      <td>Swayambhu, Kathmandu</td>\n",
       "      <td>27.715671</td>\n",
       "      <td>85.291538</td>\n",
       "      <td>Temple</td>\n",
       "    </tr>\n",
       "    <tr>\n",
       "      <th>67</th>\n",
       "      <td>KTM City Gaming Zone</td>\n",
       "      <td>Gongabu, Kathmandu</td>\n",
       "      <td>27.710220</td>\n",
       "      <td>85.329057</td>\n",
       "      <td>Funland</td>\n",
       "    </tr>\n",
       "  </tbody>\n",
       "</table>\n",
       "</div>"
      ],
      "text/plain": [
       "                            Destination              Location    latitude  \\\n",
       "56                       Gahana Pokhari   Handigaun, Kathmandu  27.716819   \n",
       "82         Sundarijal to Chisapani Hike  Sundarijal, Kathmandu  27.789705   \n",
       "57                         Ikha Pokhari       Wotu Tole, Patan  27.710243   \n",
       "42  Harati Devi Temple (Swayambhu area)   Swayambhu, Kathmandu  27.715671   \n",
       "67                 KTM City Gaming Zone     Gongabu, Kathmandu  27.710220   \n",
       "\n",
       "    longitude           tag  \n",
       "56  85.332979          Pond  \n",
       "82  85.426028  Hiking route  \n",
       "57  85.308770          Pond  \n",
       "42  85.291538        Temple  \n",
       "67  85.329057       Funland  "
      ]
     },
     "execution_count": 5,
     "metadata": {},
     "output_type": "execute_result"
    }
   ],
   "source": [
    "data.drop(\"Unnamed: 5\",axis=1,inplace=True)\n",
    "data.sample(5)"
   ]
  },
  {
   "cell_type": "code",
   "execution_count": 6,
   "id": "0e2015b9-1ed5-4e0b-ae5e-78d707b36195",
   "metadata": {},
   "outputs": [],
   "source": [
    "# Encode tags\n",
    "encoder = OneHotEncoder(sparse_output=False)\n",
    "tag_matrix = encoder.fit_transform(data[['tag']])\n",
    "tag_df = pd.DataFrame(tag_matrix, columns=encoder.get_feature_names_out(['tag']))"
   ]
  },
  {
   "cell_type": "code",
   "execution_count": 8,
   "id": "2c2f51f2-5b7d-498d-8fde-db68d4e03d4d",
   "metadata": {},
   "outputs": [
    {
     "data": {
      "text/plain": [
       "array([[1., 1., 1., ..., 0., 0., 0.],\n",
       "       [1., 1., 1., ..., 0., 0., 0.],\n",
       "       [1., 1., 1., ..., 0., 0., 0.],\n",
       "       ...,\n",
       "       [0., 0., 0., ..., 1., 1., 1.],\n",
       "       [0., 0., 0., ..., 1., 1., 1.],\n",
       "       [0., 0., 0., ..., 1., 1., 1.]], shape=(86, 86))"
      ]
     },
     "execution_count": 8,
     "metadata": {},
     "output_type": "execute_result"
    }
   ],
   "source": [
    "# Compute cosine similarity\n",
    "cosine_sim_matrix = cosine_similarity(tag_df)\n",
    "cosine_sim_matrix"
   ]
  },
  {
   "cell_type": "code",
   "execution_count": 9,
   "id": "2a2e1fa7-be20-40ce-92e9-c526f3e92ce0",
   "metadata": {},
   "outputs": [],
   "source": [
    "# Compute proximity matrix\n",
    "def calculate_proximity_matrix(data):\n",
    "    proximity_matrix = np.zeros((len(data), len(data)))\n",
    "    for i, row1 in data.iterrows():\n",
    "        for j, row2 in data.iterrows():\n",
    "            loc1 = (row1['latitude'], row1['longitude'])\n",
    "            loc2 = (row2['latitude'], row2['longitude'])\n",
    "            proximity_matrix[i, j] = haversine(loc1, loc2, unit=Unit.KILOMETERS)\n",
    "    return proximity_matrix\n",
    "\n",
    "proximity_matrix = calculate_proximity_matrix(data)"
   ]
  },
  {
   "cell_type": "code",
   "execution_count": 12,
   "id": "44776471-dd55-49e1-967a-873c24d58e4b",
   "metadata": {},
   "outputs": [
    {
     "data": {
      "text/plain": [
       "array([[1.        , 0.75328316, 0.86499042, ..., 0.01974832, 0.04514845,\n",
       "        0.02098884],\n",
       "       [0.75328316, 1.        , 0.75115645, ..., 0.02607736, 0.03175594,\n",
       "        0.02633205],\n",
       "       [0.86499042, 0.75115645, 1.        , ..., 0.01903439, 0.0513993 ,\n",
       "        0.02004067],\n",
       "       ...,\n",
       "       [0.01974832, 0.02607736, 0.01903439, ..., 1.        , 0.71505271,\n",
       "        0.77572382],\n",
       "       [0.04514845, 0.03175594, 0.0513993 , ..., 0.71505271, 1.        ,\n",
       "        0.71538047],\n",
       "       [0.02098884, 0.02633205, 0.02004067, ..., 0.77572382, 0.71538047,\n",
       "        1.        ]], shape=(86, 86))"
      ]
     },
     "execution_count": 12,
     "metadata": {},
     "output_type": "execute_result"
    }
   ],
   "source": [
    "# Combine cosine similarity and proximity\n",
    "def combine_similarity_and_proximity(cosine_sim, proximity_matrix, alpha=0.7):\n",
    "    return alpha * cosine_sim + (1 - alpha) * (1 / (1 + proximity_matrix))\n",
    "\n",
    "hybrid_matrix = combine_similarity_and_proximity(cosine_sim_matrix, proximity_matrix, alpha=0.7)\n",
    "hybrid_matrix"
   ]
  },
  {
   "cell_type": "code",
   "execution_count": 13,
   "id": "fffc7bb6-2020-44c8-b196-48a44dcd72c6",
   "metadata": {},
   "outputs": [],
   "source": [
    "# Train k-NN on hybrid matrix\n",
    "def build_knn_model(similarity_matrix, n_neighbors=4):\n",
    "    knn = NearestNeighbors(n_neighbors=n_neighbors, metric='precomputed')\n",
    "    knn.fit(1 - similarity_matrix)  # convert similarity to distance\n",
    "    return knn\n",
    "\n",
    "knn_model_hybrid = build_knn_model(hybrid_matrix)"
   ]
  },
  {
   "cell_type": "code",
   "execution_count": 14,
   "id": "c90fa385-5285-4606-8c14-249bfaa8e5b0",
   "metadata": {},
   "outputs": [
    {
     "name": "stdout",
     "output_type": "stream",
     "text": [
      "✅ Training complete and models saved.\n"
     ]
    }
   ],
   "source": [
    "# Save everything\n",
    "np.save(\"models/hybrid_matrix.npy\", hybrid_matrix)\n",
    "np.save(\"models/proximity_matrix.npy\", proximity_matrix)\n",
    "np.save(\"models/cosine_sim_matrix.npy\", cosine_sim_matrix)\n",
    "with open(\"models/knn_model_hybrid.pkl\", \"wb\") as f:\n",
    "    pickle.dump(knn_model_hybrid, f)\n",
    "with open(\"models/encoder.pkl\", \"wb\") as f:\n",
    "    pickle.dump(encoder, f)\n",
    "\n",
    "print(\"✅ Training complete and models saved.\")"
   ]
  },
  {
   "cell_type": "code",
   "execution_count": null,
   "id": "38a9ffcf-d71a-49fb-9ee7-931030d6b953",
   "metadata": {},
   "outputs": [],
   "source": []
  },
  {
   "cell_type": "code",
   "execution_count": null,
   "id": "a4e4c969-1f79-4763-af73-d27e57259b68",
   "metadata": {},
   "outputs": [],
   "source": []
  }
 ],
 "metadata": {
  "kernelspec": {
   "display_name": "Python 3 (ipykernel)",
   "language": "python",
   "name": "python3"
  },
  "language_info": {
   "codemirror_mode": {
    "name": "ipython",
    "version": 3
   },
   "file_extension": ".py",
   "mimetype": "text/x-python",
   "name": "python",
   "nbconvert_exporter": "python",
   "pygments_lexer": "ipython3",
   "version": "3.11.9"
  }
 },
 "nbformat": 4,
 "nbformat_minor": 5
}
